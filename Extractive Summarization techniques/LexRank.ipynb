{
 "cells": [
  {
   "cell_type": "markdown",
   "id": "80c7fcbc",
   "metadata": {},
   "source": [
    "# Lex Rank"
   ]
  },
  {
   "cell_type": "code",
   "execution_count": 1,
   "id": "cdc42e07",
   "metadata": {},
   "outputs": [],
   "source": [
    "import os\n",
    "import codecs\n",
    "import warnings\n",
    "warnings.filterwarnings(\"ignore\")\n",
    "\n",
    "corpus_path = \"news-corpus//\"\n",
    "article_paths = [os.path.join(corpus_path,p) for p in os.listdir(corpus_path)]\n",
    "\n",
    "doc_complete = []\n",
    "for path in article_paths:\n",
    "    with open(path, 'rb') as f:\n",
    "        doc_content = f.read().decode(errors='ignore')\n",
    "        doc_complete.append(doc_content)\n"
   ]
  },
  {
   "cell_type": "code",
   "execution_count": 2,
   "id": "4049b6b8",
   "metadata": {},
   "outputs": [],
   "source": [
    "import re\n",
    "for i in range(len(doc_complete)):\n",
    "    doc_complete[i] = re.sub(r'[^\\w\\s.]', '', doc_complete[i])"
   ]
  },
  {
   "cell_type": "code",
   "execution_count": 3,
   "id": "3a94071c",
   "metadata": {},
   "outputs": [],
   "source": [
    "if len(doc_complete) >= 2:\n",
    "    doc_complete.pop(1)"
   ]
  },
  {
   "cell_type": "code",
   "execution_count": 4,
   "id": "87e3dab8",
   "metadata": {},
   "outputs": [
    {
     "data": {
      "text/plain": [
       "5"
      ]
     },
     "execution_count": 4,
     "metadata": {},
     "output_type": "execute_result"
    }
   ],
   "source": [
    "len(doc_complete)"
   ]
  },
  {
   "cell_type": "code",
   "execution_count": 5,
   "id": "cb52a975",
   "metadata": {
    "scrolled": true
   },
   "outputs": [
    {
     "name": "stdout",
     "output_type": "stream",
     "text": [
      "Cluster 1 Summary:\n",
      "Food regulator FSSAI on Friday said there are 32 new cases where food business operators FBOs have been primafacie found in violation of misleading advertisements and claims.\n",
      "FSSAI has referred the matter to licensing authorities concerned to issue notices to these FBOs for withdrawing misleading claims or scientifically substantiate claims.\n",
      "In order to keep a close tab on the claims and advertisements being made by the FBOs on their products Advertisement Monitoring Committee of FSSAI has reported 32 fresh cases which have been found prima facie in contravention of the provisions of Food Safety and Standards Advertisements  Claims Regulations 2018 the regulator said in a statement.\n",
      "\n",
      "\n",
      "\n",
      "Cluster 1 Key Points:\n",
      "- Food regulator FSSAI on Friday said there are 32 new cases where food business operators FBOs have been primafacie found in violation of misleading advertisements and claims.\n",
      "- FSSAI has referred the matter to licensing authorities concerned to issue notices to these FBOs for withdrawing misleading claims or scientifically substantiate claims.\n",
      "- In order to keep a close tab on the claims and advertisements being made by the FBOs on their products Advertisement Monitoring Committee of FSSAI has reported 32 fresh cases which have been found prima facie in contravention of the provisions of Food Safety and Standards Advertisements  Claims Regulations 2018 the regulator said in a statement.\n",
      "==========================\n",
      "Cluster 2 Summary:\n",
      "Union Agriculture Minister Narendra Singh Tomar on Friday said the government is making efforts to boost the production and consumption of millets.\n",
      "In addition to a unique dining experience customers can also purchase a variety of readytoeat and readytocook products from local millet startups at the experience centre.\n",
      "Nafed MD Rajbir Singh said the centre is a unique concept that will help in the recognition of the immense potential of millets Shree Anna as a versatile and healthy grain.\n",
      "\n",
      "\n",
      "\n",
      "Cluster 2 Key Points:\n",
      "- Union Agriculture Minister Narendra Singh Tomar on Friday said the government is making efforts to boost the production and consumption of millets.\n",
      "- In addition to a unique dining experience customers can also purchase a variety of readytoeat and readytocook products from local millet startups at the experience centre.\n",
      "- Nafed MD Rajbir Singh said the centre is a unique concept that will help in the recognition of the immense potential of millets Shree Anna as a versatile and healthy grain.\n",
      "==========================\n",
      "Cluster 3 Summary:\n",
      "At a time when the two extremes of malnourishment and obesity plague large portions of the world India has taken it upon herself to educate the masses about these smallseeded grasses that are highly beneficial to human health.Millet and grain cereals despite being rich sources of protein and antioxidants with high nutritional value have never been considered fashionable foods however India has done remarkably well when it has come to meeting the caloric needs and demands of her people.India the worlds largest producer and the worlds secondlargest exporter of millet are hoping to change the humble millets reputation worldwide.Unlike a large part of the rest of the world almost every Indian household is acquainted with the taste and the benefits of millet.Millets have been a staple of the Indian diet especially in rural India for years and remain prevalent even today.\n",
      "They have been a large contributor to Indians balanced diets.The Government of India has identified millet as a safe bet to enhance farmers income and as a reliable grain to ensure Indias nutritional and food security.We are the largest producer and the second largest exporter of Shri Anna Millets in the world.\n",
      "It was a remarkable achievement considering India had not even touched the export mark of USD 30 million worth of millets in 2019 and 2020.India home to 20 per cent of the global millet production with a staggering 80 per cent contribution to Asias millet production also proposed that the United Nations declare an international year of millet according to APEDA.Cognizant of Indias success in feeding her vast population and working for global welfare the global body declared 2023 as the international year of millets.\n",
      "\n",
      "\n",
      "\n",
      "Cluster 3 Key Points:\n",
      "- At a time when the two extremes of malnourishment and obesity plague large portions of the world India has taken it upon herself to educate the masses about these smallseeded grasses that are highly beneficial to human health.Millet and grain cereals despite being rich sources of protein and antioxidants with high nutritional value have never been considered fashionable foods however India has done remarkably well when it has come to meeting the caloric needs and demands of her people.India the worlds largest producer and the worlds secondlargest exporter of millet are hoping to change the humble millets reputation worldwide.Unlike a large part of the rest of the world almost every Indian household is acquainted with the taste and the benefits of millet.Millets have been a staple of the Indian diet especially in rural India for years and remain prevalent even today.\n",
      "- They have been a large contributor to Indians balanced diets.The Government of India has identified millet as a safe bet to enhance farmers income and as a reliable grain to ensure Indias nutritional and food security.We are the largest producer and the second largest exporter of Shri Anna Millets in the world.\n",
      "- It was a remarkable achievement considering India had not even touched the export mark of USD 30 million worth of millets in 2019 and 2020.India home to 20 per cent of the global millet production with a staggering 80 per cent contribution to Asias millet production also proposed that the United Nations declare an international year of millet according to APEDA.Cognizant of Indias success in feeding her vast population and working for global welfare the global body declared 2023 as the international year of millets.\n",
      "==========================\n",
      "Cluster 4 Summary:\n",
      "The business needs a focused approach and dedicated manpower to grow it.Last year the revenue from the hived off brands  Kitchenji dals staples and spices Madhuram bulk grain and pulse Fresheys readytocook items dairy products  was about Rs 400 crore.\n",
      "The business requires a new set of skills distribution product development sales and marketing Karthik Jayaraman Managing Director WayCool Foods told reporters here on Friday.We will be doubling the revenue this year to Rs 800 crore by expanding our reach and launching new products.\n",
      "We will be present in all the south Indian towns having a population of about 30000 people said BP Ravindran CEO of WayCool BrandsNext the new subsidiary.Ravindran said the company will soon launch a health mix powder with higher millet content and also come out with milletbased food products.Discover the stories of your interestBlockchain5 StoriesCybersafety7 StoriesFintech9 StoriesEcomm9 StoriesML8 StoriesEdtech6 StoriesAgreeing that postCovid people are looking at healthier food options Ravindran said the company will also come out with various rice varieties like redbrown and others and valueadded dairy products.According to Jayaraman the demand for whitelabelled products have gone up and the company is also serving the needs of companies that are into delivering groceries to homes.The parent company WayCool Foods is largely a businesstobusiness B2B food products supplier sourcing from farmersfarmer producer organisations directly and supplying to retail outletsbulk buyers in the southern markets and in Maharashtra.WayCool Indias leading food and agritech company has signed a Memorandum of Understanding MoU with Central Warehousing Corporation CWC to bolster the distribution of its agriinput portfolio.\n",
      "\n",
      "\n",
      "\n",
      "Cluster 4 Key Points:\n",
      "- The business needs a focused approach and dedicated manpower to grow it.Last year the revenue from the hived off brands  Kitchenji dals staples and spices Madhuram bulk grain and pulse Fresheys readytocook items dairy products  was about Rs 400 crore.\n",
      "- The business requires a new set of skills distribution product development sales and marketing Karthik Jayaraman Managing Director WayCool Foods told reporters here on Friday.We will be doubling the revenue this year to Rs 800 crore by expanding our reach and launching new products.\n",
      "- We will be present in all the south Indian towns having a population of about 30000 people said BP Ravindran CEO of WayCool BrandsNext the new subsidiary.Ravindran said the company will soon launch a health mix powder with higher millet content and also come out with milletbased food products.Discover the stories of your interestBlockchain5 StoriesCybersafety7 StoriesFintech9 StoriesEcomm9 StoriesML8 StoriesEdtech6 StoriesAgreeing that postCovid people are looking at healthier food options Ravindran said the company will also come out with various rice varieties like redbrown and others and valueadded dairy products.According to Jayaraman the demand for whitelabelled products have gone up and the company is also serving the needs of companies that are into delivering groceries to homes.The parent company WayCool Foods is largely a businesstobusiness B2B food products supplier sourcing from farmersfarmer producer organisations directly and supplying to retail outletsbulk buyers in the southern markets and in Maharashtra.WayCool Indias leading food and agritech company has signed a Memorandum of Understanding MoU with Central Warehousing Corporation CWC to bolster the distribution of its agriinput portfolio.\n",
      "==========================\n",
      "Cluster 5 Summary:\n",
      "will be deliberated in the meeting being organised by the Union agriculture ministry.\n",
      "Thereafter a welcome dinner and cultural programme is organised at Taj Ganges.\n",
      "The delegates will be taken to Sarnath on April 18.\n",
      "\n",
      "\n",
      "\n",
      "Cluster 5 Key Points:\n",
      "- will be deliberated in the meeting being organised by the Union agriculture ministry.\n",
      "- Thereafter a welcome dinner and cultural programme is organised at Taj Ganges.\n",
      "- The delegates will be taken to Sarnath on April 18.\n",
      "==========================\n"
     ]
    }
   ],
   "source": [
    "import nltk\n",
    "from nltk.tokenize import sent_tokenize, word_tokenize\n",
    "from nltk.corpus import stopwords\n",
    "from nltk.stem import WordNetLemmatizer\n",
    "from sklearn.feature_extraction.text import TfidfVectorizer\n",
    "from sklearn.cluster import KMeans\n",
    "from sklearn.metrics.pairwise import cosine_distances\n",
    "from sumy.parsers.plaintext import PlaintextParser\n",
    "from sumy.nlp.tokenizers import Tokenizer\n",
    "from sumy.summarizers.lex_rank import LexRankSummarizer\n",
    "\n",
    "# nltk.download('punkt')\n",
    "# nltk.download('stopwords')\n",
    "# nltk.download('wordnet')\n",
    "\n",
    "# Preprocess the text data\n",
    "\n",
    "# if len(doc_complete) >= 2:\n",
    "#     doc_complete.pop(1)\n",
    "\n",
    "# Define stopwords and lemmatizer\n",
    "\n",
    "generated_summaries = []\n",
    "\n",
    "stopwords = set(stopwords.words('english'))\n",
    "lemmatizer = WordNetLemmatizer()\n",
    "\n",
    "# Function to preprocess a document\n",
    "def preprocess_document(document):\n",
    "    # Split the document into sentences\n",
    "    sentences = sent_tokenize(document)\n",
    "    \n",
    "    # Preprocess each sentence\n",
    "    preprocessed_sentences = []\n",
    "    for sentence in sentences:\n",
    "        # Tokenize the sentence\n",
    "        tokens = word_tokenize(sentence.lower())\n",
    "        \n",
    "        # Remove stopwords and punctuation\n",
    "        tokens = [token for token in tokens if token.isalpha() and token not in stopwords]\n",
    "        \n",
    "        # Lemmatize the tokens\n",
    "        tokens = [lemmatizer.lemmatize(token) for token in tokens]\n",
    "        \n",
    "        preprocessed_sentences.append(tokens)\n",
    "    \n",
    "    return preprocessed_sentences\n",
    "\n",
    "# Create a list of preprocessed documents\n",
    "preprocessed_documents = [preprocess_document(doc) for doc in doc_complete]\n",
    "\n",
    "# Flatten the list of tokens\n",
    "flattened_documents = [\" \".join(token for sentence in document for token in sentence) for document in preprocessed_documents]\n",
    "\n",
    "# Vectorize the documents (TF-IDF)\n",
    "vectorizer = TfidfVectorizer()\n",
    "vectorized_docs = vectorizer.fit_transform(flattened_documents)\n",
    "\n",
    "# Perform clustering (K-means)\n",
    "num_clusters = 5  # Adjust the number of clusters as needed\n",
    "kmeans = KMeans(n_clusters=num_clusters, init='k-means++', random_state=42)\n",
    "kmeans.fit(vectorized_docs)\n",
    "cluster_labels = kmeans.labels_\n",
    "\n",
    "# Generate summaries for each cluster\n",
    "for cluster_id in range(num_clusters):\n",
    "    cluster_docs = [doc_complete[i] for i, label in enumerate(cluster_labels) if label == cluster_id]\n",
    "    \n",
    "    # Concatenate the cluster documents\n",
    "    cluster_text = \"\\n\".join(cluster_docs)\n",
    "    \n",
    "    # Create a parser for the cluster text\n",
    "    parser = PlaintextParser.from_string(cluster_text, Tokenizer(\"english\"))\n",
    "    \n",
    "    # Create a LexRank summarizer\n",
    "    summarizer = LexRankSummarizer()\n",
    "    \n",
    "    # Summarize the cluster text\n",
    "    summary = summarizer(parser.document, 3)  # Adjust the number of sentences for summary\n",
    "    \n",
    "    # Extract key points from the summary\n",
    "    key_points = [str(sentence) for sentence in summary]\n",
    "    \n",
    "    # Print the key points for the cluster\n",
    "    print(f\"Cluster {cluster_id + 1} Summary:\")\n",
    "    print(\"\\n\".join(key_points))\n",
    "    generated_summaries.append(\"\".join((key_points)))\n",
    "    print(\"\\n\\n\")\n",
    "    print(f\"Cluster {cluster_id + 1} Key Points:\")\n",
    "    for point in key_points:\n",
    "        print(\"- \" + point)\n",
    "    print(\"==========================\")\n"
   ]
  },
  {
   "cell_type": "code",
   "execution_count": 6,
   "id": "a156fe58",
   "metadata": {},
   "outputs": [],
   "source": [
    "#Generated_summaries = list(generated_summaries)"
   ]
  },
  {
   "cell_type": "code",
   "execution_count": 7,
   "id": "3e449393",
   "metadata": {},
   "outputs": [],
   "source": [
    "#Generated_summaries "
   ]
  },
  {
   "cell_type": "code",
   "execution_count": 8,
   "id": "b910220e",
   "metadata": {},
   "outputs": [],
   "source": [
    "#pip install python-docx"
   ]
  },
  {
   "cell_type": "code",
   "execution_count": 9,
   "id": "1cec8e73",
   "metadata": {},
   "outputs": [],
   "source": [
    "def extract_text_between_markers(text, start_marker, end_marker):\n",
    "    extracted_texts = []\n",
    "    start_index = 0\n",
    "\n",
    "    while True:\n",
    "        start_index = text.find(start_marker, start_index)\n",
    "        if start_index == -1:\n",
    "            break\n",
    "\n",
    "        start_index += len(start_marker)\n",
    "        end_index = text.find(end_marker, start_index)\n",
    "        if end_index == -1:\n",
    "            break\n",
    "\n",
    "        extracted_text = text[start_index:end_index].strip()\n",
    "        extracted_texts.append(extracted_text)\n",
    "\n",
    "        start_index = end_index + len(end_marker)\n",
    "\n",
    "    return extracted_texts"
   ]
  },
  {
   "cell_type": "code",
   "execution_count": 10,
   "id": "13768f49",
   "metadata": {},
   "outputs": [],
   "source": [
    "from docx import Document\n",
    "\n",
    "def read_docx(file_path):\n",
    "    doc = Document(file_path)\n",
    "    text = \"\"\n",
    "    for paragraph in doc.paragraphs:\n",
    "        text += paragraph.text + \"\\n\"\n",
    "    return text\n",
    "\n",
    "reference_summaries =[]\n",
    "file_path = \"News articles.docx\"\n",
    "text_content = read_docx(file_path)\n",
    "\n",
    "\n",
    "start_marker = \"Summary:\"\n",
    "end_marker = \"Top Sentences:\"\n",
    "\n",
    "extracted_texts = extract_text_between_markers(text_content, start_marker, end_marker)\n",
    "for extracted_text in extracted_texts:\n",
    "    reference_summaries.append(extracted_text)\n"
   ]
  },
  {
   "cell_type": "code",
   "execution_count": 11,
   "id": "b9af69a0",
   "metadata": {},
   "outputs": [
    {
     "data": {
      "text/plain": [
       "[\"The Indian government, led by Agriculture Minister Narendra Singh Tomar, has opened the 'Millets Experience Centre' in New Delhi to promote the production and consumption of millets. The center aims to raise awareness about the nutritional benefits of millets and encourage their adoption among the public. Tomar emphasized the health advantages of millets and their climate resilience, highlighting that increased millet production would benefit farmers and startups in the sector. The United Nations has declared 2023 as the International Year of Millets, further positioning India as a leader in promoting this crop.\",\n",
       " \"India is taking initiatives to educate people about the nutritional value of millets and promote their consumption. Despite being rich in protein and antioxidants, millets have not been considered fashionable foods. However, the Indian government has recognized millets as a reliable grain for enhancing farmers' income and ensuring food security. Efforts to revive millet production and consumption have led to increased exports and the declaration of 2023 as the international year of millets. India aims to raise awareness about millets' nutritional value and address food inequity through their promotion.\",\n",
       " 'The Food Safety and Standards Authority of India (FSSAI) has identified 32 cases of food business operators (FBOs) violating regulations related to misleading advertisements and claims. These FBOs, including manufacturers and marketers of various products, have been referred to licensing authorities to withdraw the misleading claims or provide scientific substantiation. The FSSAI has taken action against a total of 170 such cases in the past six months and warns FBOs to adhere to regulations to avoid enforcement actions.',\n",
       " \"India's G20 presidency is hosting a three-day Meeting of Agricultural Chief Scientists (MACS) in Varanasi to discuss sustainable agriculture and food systems. Topics such as agriculture research and development, food security, climate smart agriculture, and digital agriculture will be deliberated. The meeting will also focus on the 'Millets And Other Ancient Grains International Research Initiative (MAHARISHI)' as a G20 initiative. Around 80 foreign delegates from G20 member states, along with invited guest countries and international bodies, will attend the meeting. The delegates will also experience India's cultural heritage and visit historical sites during their stay in Varanasi.\",\n",
       " 'Agri-commerce company WayCool Foods and Products has created a wholly owned subsidiary, WayCool BrandsNext Private Ltd, to double its revenue in a year. The subsidiary will launch millet-based products, various rice varieties, and value-added dairy products. WayCool Foods aims to reach a revenue of Rs 800 crore by expanding its reach and launching new products. The company has also partnered with Central Warehousing Corporation to enhance its agri-input distribution and improve supply chain efficiency.']"
      ]
     },
     "execution_count": 11,
     "metadata": {},
     "output_type": "execute_result"
    }
   ],
   "source": [
    "reference_summaries"
   ]
  },
  {
   "cell_type": "markdown",
   "id": "054b1e07",
   "metadata": {},
   "source": [
    "# Blue scores"
   ]
  },
  {
   "cell_type": "code",
   "execution_count": 13,
   "id": "cc8d28a0",
   "metadata": {},
   "outputs": [
    {
     "name": "stdout",
     "output_type": "stream",
     "text": [
      "BLEU score for Article : 8.687066696188942e-232\n"
     ]
    }
   ],
   "source": [
    "from nltk.translate.bleu_score import sentence_bleu\n",
    "\n",
    "bleu_score = sentence_bleu(generated_summaries[1],reference_summaries[0])\n",
    "print(\"BLEU score for Article\",\":\", bleu_score)\n"
   ]
  },
  {
   "cell_type": "code",
   "execution_count": 14,
   "id": "145eceab",
   "metadata": {
    "scrolled": true
   },
   "outputs": [
    {
     "name": "stdout",
     "output_type": "stream",
     "text": [
      "BLEU score for Article : 8.789870675111121e-232\n"
     ]
    }
   ],
   "source": [
    "bleu_score = sentence_bleu(generated_summaries[2],reference_summaries[1])\n",
    "print(\"BLEU score for Article\",\":\", bleu_score)\n"
   ]
  },
  {
   "cell_type": "code",
   "execution_count": 15,
   "id": "7e5921da",
   "metadata": {},
   "outputs": [
    {
     "name": "stdout",
     "output_type": "stream",
     "text": [
      "BLEU score for Article : 9.186109474684186e-232\n"
     ]
    }
   ],
   "source": [
    "bleu_score = sentence_bleu(generated_summaries[0],reference_summaries[2])\n",
    "print(\"BLEU score for Article\",\":\", bleu_score)"
   ]
  },
  {
   "cell_type": "code",
   "execution_count": 16,
   "id": "90748d42",
   "metadata": {},
   "outputs": [
    {
     "name": "stdout",
     "output_type": "stream",
     "text": [
      "BLEU score for Article : 8.096973930238044e-232\n"
     ]
    }
   ],
   "source": [
    "bleu_score = sentence_bleu(generated_summaries[4],reference_summaries[3])\n",
    "print(\"BLEU score for Article\",\":\", bleu_score)"
   ]
  },
  {
   "cell_type": "code",
   "execution_count": 17,
   "id": "ac299b9a",
   "metadata": {},
   "outputs": [
    {
     "name": "stdout",
     "output_type": "stream",
     "text": [
      "BLEU score for Article : 9.404418754951175e-232\n"
     ]
    }
   ],
   "source": [
    "bleu_score = sentence_bleu(generated_summaries[3],reference_summaries[4])\n",
    "print(\"BLEU score for Article\",\":\", bleu_score)"
   ]
  },
  {
   "cell_type": "markdown",
   "id": "f607bf57",
   "metadata": {},
   "source": [
    "# Lex Rank"
   ]
  },
  {
   "cell_type": "code",
   "execution_count": 18,
   "id": "82523423",
   "metadata": {
    "scrolled": true
   },
   "outputs": [
    {
     "name": "stdout",
     "output_type": "stream",
     "text": [
      "Document 1 Summary:\n",
      "\n",
      "\n",
      "at a time when the two extreme of malnourishment and obesity plague large portion of the world india ha taken it upon herself to educate the mass about these smallseeded grass that are highly beneficial to human health.millet and grain cereal despite being rich source of protein and antioxidant with high nutritional value have never been considered fashionable food however india ha done remarkably well when it ha come to meeting the caloric need and demand of her people.india the world largest producer and the world secondlargest exporter of millet are hoping to change the humble millet reputation worldwide.unlike a large part of the rest of the world almost every indian household is acquainted with the taste and the benefit of millet.millets have been a staple of the indian diet especially in rural india for year and remain prevalent even today .\n",
      "they have been a large contributor to indian balanced diets.the government of india ha identified millet a a safe bet to enhance farmer income and a a reliable grain to ensure india nutritional and food security.we are the largest producer and the second largest exporter of shri anna millet in the world .\n",
      "the government also began referring to millet a nutricereals giving them an image makeover.it is because of such effort that india exported usd 64 million of millet in 2021 . it wa a remarkable achievement considering india had not even touched the export mark of usd 30 million worth of millet in 2019 and 2020.india home to 20 per cent of the global millet production with a staggering 80 per cent contribution to asia millet production also proposed that the united nation declare an international year of millet according to apeda.cognizant of india success in feeding her vast population and working for global welfare the global body declared 2023 a the international year of millet .\n",
      "==========================\n",
      "Document 2 Summary:\n",
      "\n",
      "\n",
      "will be deliberated in the meeting being organised by the union agriculture ministry .\n",
      "adequate arrangement for their security and safety at the meeting venue hotel of their stay have also been made .\n",
      "the delegate would be taken on a cruise ride to witness the scintillating view of ganga aarti on april 17 . thereafter a welcome dinner and cultural programme is organised at taj ganges .\n",
      "==========================\n",
      "Document 3 Summary:\n",
      "\n",
      "\n",
      "union agriculture minister narendra singh tomar on friday said the government is making effort to boost the production and consumption of millet .\n",
      "in addition to a unique dining experience customer can also purchase a variety of readytoeat and readytocook product from local millet startup at the experience centre .\n",
      "nafed md rajbir singh said the centre is a unique concept that will help in the recognition of the immense potential of millet shree anna a a versatile and healthy grain .\n",
      "==========================\n",
      "Document 4 Summary:\n",
      "\n",
      "\n",
      "fssai ha referred the matter to licensing authority concerned to issue notice to these fbos for withdrawing misleading claim or scientifically substantiate claim .\n",
      "these fbos include manufacturer andor marketer of nutraceutical product refined oil pulse flour millet product ghee etc .\n",
      "in order to keep a close tab on the claim and advertisement being made by the fbos on their product advertisement monitoring committee of fssai ha reported 32 fresh case which have been found prima facie in contravention of the provision of food safety and standard advertisement claim regulation 2018 the regulator said in a statement .\n",
      "==========================\n",
      "Document 5 Summary:\n",
      "\n",
      "\n",
      "the business need a focused approach and dedicated manpower to grow it.last year the revenue from the hived off brand kitchenji dal staple and spice madhuram bulk grain and pulse fresheys readytocook item dairy product wa about r 400 crore .\n",
      "the business requires a new set of skill distribution product development sale and marketing karthik jayaraman managing director waycool food told reporter here on friday.we will be doubling the revenue this year to r 800 crore by expanding our reach and launching new product .\n",
      "we will be present in all the south indian town having a population of about 30000 people said bp ravindran ceo of waycool brandsnext the new subsidiary.ravindran said the company will soon launch a health mix powder with higher millet content and also come out with milletbased food products.discover the story of your interestblockchain5 storiescybersafety7 storiesfintech9 storiesecomm9 storiesml8 storiesedtech6 storiesagreeing that postcovid people are looking at healthier food option ravindran said the company will also come out with various rice variety like redbrown and others and valueadded dairy products.according to jayaraman the demand for whitelabelled product have gone up and the company is also serving the need of company that are into delivering grocery to homes.the parent company waycool food is largely a businesstobusiness b2b food product supplier sourcing from farmersfarmer producer organisation directly and supplying to retail outletsbulk buyer in the southern market and in maharashtra.waycool india leading food and agritech company ha signed a memorandum of understanding mou with central warehousing corporation cwc to bolster the distribution of it agriinput portfolio .\n",
      "==========================\n"
     ]
    }
   ],
   "source": [
    "import nltk\n",
    "from nltk.tokenize import sent_tokenize\n",
    "from nltk.corpus import stopwords\n",
    "from nltk.stem import WordNetLemmatizer\n",
    "from sumy.parsers.plaintext import PlaintextParser\n",
    "from sumy.nlp.tokenizers import Tokenizer\n",
    "from sumy.summarizers.lex_rank import LexRankSummarizer\n",
    "\n",
    "# nltk.download('punkt')\n",
    "# nltk.download('stopwords')\n",
    "# nltk.download('wordnet')\n",
    "\n",
    "# Define stopwords and lemmatizer\n",
    "stopwords = set(stopwords.words('english'))\n",
    "lemmatizer = WordNetLemmatizer()\n",
    "\n",
    "# Function to preprocess a document\n",
    "def preprocess_document(document):\n",
    "    # Split the document into sentences\n",
    "    sentences = sent_tokenize(document)\n",
    "    \n",
    "    # Preprocess each sentence\n",
    "    preprocessed_sentences = []\n",
    "    for sentence in sentences:\n",
    "        # Tokenize the sentence\n",
    "        tokens = nltk.word_tokenize(sentence.lower())\n",
    "        \n",
    "#         # Remove stopwords and punctuation\n",
    "#         tokens = [token for token in tokens if token.isalpha() and token not in stopwords]\n",
    "        \n",
    "        # Lemmatize the tokens\n",
    "        tokens = [lemmatizer.lemmatize(token) for token in tokens]\n",
    "        \n",
    "        preprocessed_sentences.append(\" \".join(tokens))\n",
    "    \n",
    "    return preprocessed_sentences\n",
    "\n",
    "# Create a list of preprocessed documents\n",
    "generated_summaries =[]\n",
    "preprocessed_documents = [preprocess_document(doc) for doc in doc_complete]\n",
    "\n",
    "# Generate summaries for each document\n",
    "for i, document in enumerate(preprocessed_documents):\n",
    "    # Concatenate the document sentences\n",
    "    document_text = \"\\n\".join(document)\n",
    "    \n",
    "    # Create a parser for the document text\n",
    "    parser = PlaintextParser.from_string(document_text, Tokenizer(\"english\"))\n",
    "    \n",
    "    # Create a LexRank summarizer\n",
    "    summarizer = LexRankSummarizer()\n",
    "    \n",
    "    # Summarize the document text\n",
    "    summary = summarizer(parser.document, 3)  # Adjust the number of sentences for summary\n",
    "    \n",
    "    # Extract key points from the summary\n",
    "    key_points = [str(sentence) for sentence in summary]\n",
    "    \n",
    "    # Print the key points for the document\n",
    "    print(f\"Document {i + 1} Summary:\")\n",
    "    print(\"\\n\")\n",
    "    print(\"\\n\".join(key_points))\n",
    "    generated_summaries.append(\"\".join((key_points)))\n",
    "    print(\"==========================\")\n"
   ]
  },
  {
   "cell_type": "markdown",
   "id": "c9ee6331",
   "metadata": {},
   "source": [
    "# Blue scores"
   ]
  },
  {
   "cell_type": "code",
   "execution_count": 19,
   "id": "c7f55cd7",
   "metadata": {},
   "outputs": [
    {
     "name": "stdout",
     "output_type": "stream",
     "text": [
      "BLEU score for Article : 7.998667067471733e-232\n"
     ]
    }
   ],
   "source": [
    "bleu_score = sentence_bleu(generated_summaries[1],reference_summaries[0])\n",
    "print(\"BLEU score for Article\",\":\", bleu_score)"
   ]
  },
  {
   "cell_type": "code",
   "execution_count": 20,
   "id": "0605a0df",
   "metadata": {},
   "outputs": [
    {
     "name": "stdout",
     "output_type": "stream",
     "text": [
      "BLEU score for Article : 8.281277492238267e-232\n"
     ]
    }
   ],
   "source": [
    "bleu_score = sentence_bleu(generated_summaries[2],reference_summaries[1])\n",
    "print(\"BLEU score for Article\",\":\", bleu_score)\n"
   ]
  },
  {
   "cell_type": "code",
   "execution_count": 21,
   "id": "a3f8f2c9",
   "metadata": {},
   "outputs": [
    {
     "name": "stdout",
     "output_type": "stream",
     "text": [
      "BLEU score for Article : 8.827980943354901e-232\n"
     ]
    }
   ],
   "source": [
    "bleu_score = sentence_bleu(generated_summaries[0],reference_summaries[2])\n",
    "print(\"BLEU score for Article\",\":\", bleu_score)"
   ]
  },
  {
   "cell_type": "code",
   "execution_count": 22,
   "id": "edc6d881",
   "metadata": {},
   "outputs": [
    {
     "name": "stdout",
     "output_type": "stream",
     "text": [
      "BLEU score for Article : 8.096973930238044e-232\n"
     ]
    }
   ],
   "source": [
    "bleu_score = sentence_bleu(generated_summaries[4],reference_summaries[3])\n",
    "print(\"BLEU score for Article\",\":\", bleu_score)"
   ]
  },
  {
   "cell_type": "code",
   "execution_count": 23,
   "id": "361340ac",
   "metadata": {},
   "outputs": [
    {
     "name": "stdout",
     "output_type": "stream",
     "text": [
      "BLEU score for Article : 8.585020487185389e-232\n"
     ]
    }
   ],
   "source": [
    "bleu_score = sentence_bleu(generated_summaries[3],reference_summaries[4])\n",
    "print(\"BLEU score for Article\",\":\", bleu_score)"
   ]
  }
 ],
 "metadata": {
  "kernelspec": {
   "display_name": "Python 3 (ipykernel)",
   "language": "python",
   "name": "python3"
  },
  "language_info": {
   "codemirror_mode": {
    "name": "ipython",
    "version": 3
   },
   "file_extension": ".py",
   "mimetype": "text/x-python",
   "name": "python",
   "nbconvert_exporter": "python",
   "pygments_lexer": "ipython3",
   "version": "3.9.13"
  }
 },
 "nbformat": 4,
 "nbformat_minor": 5
}
