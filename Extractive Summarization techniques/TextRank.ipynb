{
 "cells": [
  {
   "cell_type": "markdown",
   "id": "db9303da",
   "metadata": {},
   "source": [
    "# Text Rank"
   ]
  },
  {
   "cell_type": "code",
   "execution_count": 2,
   "id": "97e19b2d",
   "metadata": {},
   "outputs": [],
   "source": [
    "import os\n",
    "import codecs\n",
    "\n",
    "corpus_path = \"news-corpus//\"\n",
    "article_paths = [os.path.join(corpus_path,p) for p in os.listdir(corpus_path)]\n",
    "\n",
    "doc_complete = []\n",
    "for path in article_paths:\n",
    "    with open(path, 'rb') as f:\n",
    "        doc_content = f.read().decode(errors='ignore')\n",
    "        doc_complete.append(doc_content)"
   ]
  },
  {
   "cell_type": "code",
   "execution_count": 3,
   "id": "8a63ab78",
   "metadata": {},
   "outputs": [],
   "source": [
    "import re\n",
    "for i in range(len(doc_complete)):\n",
    "    doc_complete[i] = re.sub(r'[^\\w\\s.]', '', doc_complete[i])"
   ]
  },
  {
   "cell_type": "code",
   "execution_count": 4,
   "id": "635f4eb2",
   "metadata": {},
   "outputs": [],
   "source": [
    "if len(doc_complete) >= 2:\n",
    "    doc_complete.pop(1)"
   ]
  },
  {
   "cell_type": "code",
   "execution_count": 5,
   "id": "26a57ad0",
   "metadata": {},
   "outputs": [
    {
     "data": {
      "text/plain": [
       "5"
      ]
     },
     "execution_count": 5,
     "metadata": {},
     "output_type": "execute_result"
    }
   ],
   "source": [
    "len(doc_complete)"
   ]
  },
  {
   "cell_type": "code",
   "execution_count": 6,
   "id": "10b09f3e",
   "metadata": {},
   "outputs": [],
   "source": [
    "import nltk\n",
    "from nltk.corpus import stopwords\n",
    "from sumy.parsers.plaintext import PlaintextParser\n",
    "from sumy.nlp.tokenizers import Tokenizer\n",
    "from sumy.summarizers.lex_rank import LexRankSummarizer\n",
    "\n",
    "def textrank_summarize(document, num_sentences=3):\n",
    "    \n",
    "    # Tokenize the document into sentences\n",
    "    sentences = nltk.sent_tokenize(document)\n",
    "    \n",
    "    # Combine the sentences into a single string\n",
    "    text = ' '.join(sentences)\n",
    "    \n",
    "    # Remove stopwords\n",
    "    stop_words = set(stopwords.words('english'))\n",
    "    filtered_text = ' '.join(word for word in text.split() if word.lower() not in stop_words)\n",
    "    \n",
    "    # Create a parser and tokenizer for the filtered text\n",
    "    parser = PlaintextParser.from_string(filtered_text, Tokenizer(\"english\"))\n",
    "    \n",
    "    # Create a LexRank summarizer\n",
    "    summarizer = LexRankSummarizer()\n",
    "    \n",
    "    # Generate the summary\n",
    "    summary = summarizer(parser.document, num_sentences)\n",
    "    \n",
    "    # Extract the sentences from the summary\n",
    "    extracted_sentences = [str(sentence) for sentence in summary]\n",
    "    \n",
    "    return extracted_sentences\n"
   ]
  },
  {
   "cell_type": "code",
   "execution_count": 7,
   "id": "dac7b012",
   "metadata": {
    "scrolled": false
   },
   "outputs": [
    {
     "name": "stdout",
     "output_type": "stream",
     "text": [
      "large contributor Indians balanced diets.The Government India identified millet safe bet enhance farmers income reliable grain ensure Indias nutritional food security.We largest producer second largest exporter Shri Anna Millets world.\n",
      "Public perception millets also changed due market increasingly dominated wheat.Pearl millet crop high content protein good fat content good fibre content carbohydrate content besides lot micronutrients especially iron zinc said Dr Suneha Goswami Scientist IARI New Delhi.However realising nutritious value climatic reliance millet production Indian government took upon revive practice adding millet countrys food basket again.\n",
      "government also began referring millets nutricereals giving image makeover.It efforts India exported USD 64 million millet 2021. remarkable achievement considering India even touched export mark USD 30 million worth millets 2019 2020.India home 20 per cent global millet production staggering 80 per cent contribution Asias millet production also proposed United Nations declare international year millet according APEDA.Cognizant Indias success feeding vast population working global welfare global body declared 2023 international year millets.\n",
      "===================================================================================================\n",
      "deliberated meeting organised Union agriculture ministry.\n",
      "theme meeting Sustainable Agriculture Food Systems Healthy People Planet.\n",
      "Adequate arrangements security safety meeting venue hotels stay also made.\n",
      "===================================================================================================\n",
      "Union Agriculture Minister Narendra Singh Tomar Friday said government making efforts boost production consumption millets.\n",
      "addition unique dining experience customers also purchase variety readytoeat readytocook products local millet startups experience centre.\n",
      "Nafed MD Rajbir Singh said centre unique concept help recognition immense potential millets Shree Anna versatile healthy grain.\n",
      "===================================================================================================\n",
      "FSSAI referred matter licensing authorities concerned issue notices FBOs withdrawing misleading claims scientifically substantiate claims.\n",
      "FBOs include manufacturers andor marketers nutraceutical products refined oils pulses flours millet products ghee etc.\n",
      "order keep close tab claims advertisements made FBOs products Advertisement Monitoring Committee FSSAI reported 32 fresh cases found prima facie contravention provisions Food Safety Standards Advertisements Claims Regulations 2018 regulator said statement.\n",
      "===================================================================================================\n",
      "Rs 1800crore revenuefarmtodiningplate agri commerce company WayCool Foods Products hived three brands wholly owned subsidiary order double revenue year said top company official.The new company WayCool BrandsNext Private Ltd soon launch milletbased products various rice varieties.The hiving Rs 400 crore revenue business idea come initial public offer IPO official said.\n",
      "business needs focused approach dedicated manpower grow it.Last year revenue hived brands Kitchenji dals staples spices Madhuram bulk grain pulse Fresheys readytocook items dairy products Rs 400 crore.\n",
      "business requires new set skills distribution product development sales marketing Karthik Jayaraman Managing Director WayCool Foods told reporters Friday.We doubling revenue year Rs 800 crore expanding reach launching new products.\n",
      "===================================================================================================\n"
     ]
    }
   ],
   "source": [
    "generated_summaries = []\n",
    "for doc in doc_complete:\n",
    "    summary = textrank_summarize(doc)\n",
    "    for sentence in summary:\n",
    "        generated_summaries.append(summary)\n",
    "        print(sentence)\n",
    "    print(\"===================================================================================================\")"
   ]
  },
  {
   "cell_type": "code",
   "execution_count": 8,
   "id": "875f7d46",
   "metadata": {},
   "outputs": [],
   "source": [
    "def extract_text_between_markers(text, start_marker, end_marker):\n",
    "    extracted_texts = []\n",
    "    start_index = 0\n",
    "\n",
    "    while True:\n",
    "        start_index = text.find(start_marker, start_index)\n",
    "        if start_index == -1:\n",
    "            break\n",
    "\n",
    "        start_index += len(start_marker)\n",
    "        end_index = text.find(end_marker, start_index)\n",
    "        if end_index == -1:\n",
    "            break\n",
    "\n",
    "        extracted_text = text[start_index:end_index].strip()\n",
    "        extracted_texts.append(extracted_text)\n",
    "\n",
    "        start_index = end_index + len(end_marker)\n",
    "\n",
    "    return extracted_texts"
   ]
  },
  {
   "cell_type": "code",
   "execution_count": 9,
   "id": "70546e68",
   "metadata": {},
   "outputs": [],
   "source": [
    "from docx import Document\n",
    "\n",
    "def read_docx(file_path):\n",
    "    doc = Document(file_path)\n",
    "    text = \"\"\n",
    "    for paragraph in doc.paragraphs:\n",
    "        text += paragraph.text + \"\\n\"\n",
    "    return text\n",
    "\n",
    "reference_summaries =[]\n",
    "file_path = \"News articles.docx\"\n",
    "text_content = read_docx(file_path)\n",
    "\n",
    "\n",
    "start_marker = \"Summary:\"\n",
    "end_marker = \"Top Sentences:\"\n",
    "\n",
    "extracted_texts = extract_text_between_markers(text_content, start_marker, end_marker)\n",
    "for extracted_text in extracted_texts:\n",
    "    reference_summaries.append(extracted_text)\n"
   ]
  },
  {
   "cell_type": "code",
   "execution_count": 10,
   "id": "7f089354",
   "metadata": {
    "scrolled": true
   },
   "outputs": [
    {
     "data": {
      "text/plain": [
       "[\"The Indian government, led by Agriculture Minister Narendra Singh Tomar, has opened the 'Millets Experience Centre' in New Delhi to promote the production and consumption of millets. The center aims to raise awareness about the nutritional benefits of millets and encourage their adoption among the public. Tomar emphasized the health advantages of millets and their climate resilience, highlighting that increased millet production would benefit farmers and startups in the sector. The United Nations has declared 2023 as the International Year of Millets, further positioning India as a leader in promoting this crop.\",\n",
       " \"India is taking initiatives to educate people about the nutritional value of millets and promote their consumption. Despite being rich in protein and antioxidants, millets have not been considered fashionable foods. However, the Indian government has recognized millets as a reliable grain for enhancing farmers' income and ensuring food security. Efforts to revive millet production and consumption have led to increased exports and the declaration of 2023 as the international year of millets. India aims to raise awareness about millets' nutritional value and address food inequity through their promotion.\",\n",
       " 'The Food Safety and Standards Authority of India (FSSAI) has identified 32 cases of food business operators (FBOs) violating regulations related to misleading advertisements and claims. These FBOs, including manufacturers and marketers of various products, have been referred to licensing authorities to withdraw the misleading claims or provide scientific substantiation. The FSSAI has taken action against a total of 170 such cases in the past six months and warns FBOs to adhere to regulations to avoid enforcement actions.',\n",
       " \"India's G20 presidency is hosting a three-day Meeting of Agricultural Chief Scientists (MACS) in Varanasi to discuss sustainable agriculture and food systems. Topics such as agriculture research and development, food security, climate smart agriculture, and digital agriculture will be deliberated. The meeting will also focus on the 'Millets And Other Ancient Grains International Research Initiative (MAHARISHI)' as a G20 initiative. Around 80 foreign delegates from G20 member states, along with invited guest countries and international bodies, will attend the meeting. The delegates will also experience India's cultural heritage and visit historical sites during their stay in Varanasi.\",\n",
       " 'Agri-commerce company WayCool Foods and Products has created a wholly owned subsidiary, WayCool BrandsNext Private Ltd, to double its revenue in a year. The subsidiary will launch millet-based products, various rice varieties, and value-added dairy products. WayCool Foods aims to reach a revenue of Rs 800 crore by expanding its reach and launching new products. The company has also partnered with Central Warehousing Corporation to enhance its agri-input distribution and improve supply chain efficiency.']"
      ]
     },
     "execution_count": 10,
     "metadata": {},
     "output_type": "execute_result"
    }
   ],
   "source": [
    "reference_summaries"
   ]
  },
  {
   "cell_type": "markdown",
   "id": "a8575622",
   "metadata": {},
   "source": [
    "# Bleu Scores"
   ]
  },
  {
   "cell_type": "code",
   "execution_count": 11,
   "id": "a39b6947",
   "metadata": {},
   "outputs": [
    {
     "name": "stdout",
     "output_type": "stream",
     "text": [
      "BLEU score for Article : 0.5190636567203483\n"
     ]
    }
   ],
   "source": [
    "from nltk.translate.bleu_score import sentence_bleu\n",
    "\n",
    "bleu_score = sentence_bleu(generated_summaries[0],reference_summaries[0])\n",
    "print(\"BLEU score for Article\",\":\", bleu_score)\n"
   ]
  },
  {
   "cell_type": "code",
   "execution_count": 12,
   "id": "1f9f6e82",
   "metadata": {},
   "outputs": [
    {
     "name": "stdout",
     "output_type": "stream",
     "text": [
      "BLEU score for Article : 0.562164828296763\n"
     ]
    }
   ],
   "source": [
    "bleu_score = sentence_bleu(generated_summaries[2],reference_summaries[1])\n",
    "print(\"BLEU score for Article\",\":\", bleu_score)"
   ]
  },
  {
   "cell_type": "code",
   "execution_count": 13,
   "id": "ab143ec8",
   "metadata": {},
   "outputs": [
    {
     "name": "stdout",
     "output_type": "stream",
     "text": [
      "BLEU score for Article : 0.10843114042916478\n"
     ]
    }
   ],
   "source": [
    "bleu_score = sentence_bleu(generated_summaries[3],reference_summaries[2])\n",
    "print(\"BLEU score for Article\",\":\", bleu_score)"
   ]
  },
  {
   "cell_type": "code",
   "execution_count": 14,
   "id": "1250cfab",
   "metadata": {},
   "outputs": [
    {
     "name": "stdout",
     "output_type": "stream",
     "text": [
      "BLEU score for Article : 0.37687325899401314\n"
     ]
    }
   ],
   "source": [
    "bleu_score = sentence_bleu(generated_summaries[1],reference_summaries[3])\n",
    "print(\"BLEU score for Article\",\":\", bleu_score)"
   ]
  },
  {
   "cell_type": "code",
   "execution_count": 15,
   "id": "b1050127",
   "metadata": {},
   "outputs": [
    {
     "name": "stdout",
     "output_type": "stream",
     "text": [
      "BLEU score for Article : 0.10063145766311772\n"
     ]
    }
   ],
   "source": [
    "bleu_score = sentence_bleu(generated_summaries[4],reference_summaries[4])\n",
    "print(\"BLEU score for Article\",\":\", bleu_score)"
   ]
  },
  {
   "cell_type": "code",
   "execution_count": 17,
   "id": "b7f43758",
   "metadata": {},
   "outputs": [
    {
     "data": {
      "text/plain": [
       "list"
      ]
     },
     "execution_count": 17,
     "metadata": {},
     "output_type": "execute_result"
    }
   ],
   "source": [
    "type(generated_summaries)"
   ]
  },
  {
   "cell_type": "markdown",
   "id": "6f96314e",
   "metadata": {},
   "source": [
    "# Perplexity"
   ]
  },
  {
   "cell_type": "code",
   "execution_count": 25,
   "id": "6dfb52d3",
   "metadata": {},
   "outputs": [
    {
     "name": "stdout",
     "output_type": "stream",
     "text": [
      "Perplexity: inf\n"
     ]
    }
   ],
   "source": [
    "import nltk\n",
    "from nltk.lm import MLE\n",
    "from nltk.lm.preprocessing import padded_everygram_pipeline\n",
    "from nltk.tokenize import word_tokenize\n",
    "\n",
    "def calculate_perplexity(reference_text, generated_summary):\n",
    "    # Tokenize the reference text and generated summary\n",
    "    reference_tokens = word_tokenize(reference_text)\n",
    "    summary_tokens = word_tokenize(generated_summary)\n",
    "\n",
    "    # Create training data for the language model\n",
    "    n = 2# Order of the n-gram language model\n",
    "    train_data, padded_sents = padded_everygram_pipeline(n, reference_tokens)\n",
    "\n",
    "    # Train the language model\n",
    "    model = MLE(n)\n",
    "    model.fit(train_data, padded_sents)\n",
    "\n",
    "    # Calculate perplexity\n",
    "    test_data = list(nltk.ngrams(summary_tokens, n))\n",
    "    perplexity = model.perplexity(test_data)\n",
    "\n",
    "    return perplexity\n",
    "\n",
    "\n",
    "perplexity = calculate_perplexity(str(reference_summaries[0]), str(generated_summaries[0]))\n",
    "print(\"Perplexity:\", perplexity)\n"
   ]
  }
 ],
 "metadata": {
  "kernelspec": {
   "display_name": "Python 3 (ipykernel)",
   "language": "python",
   "name": "python3"
  },
  "language_info": {
   "codemirror_mode": {
    "name": "ipython",
    "version": 3
   },
   "file_extension": ".py",
   "mimetype": "text/x-python",
   "name": "python",
   "nbconvert_exporter": "python",
   "pygments_lexer": "ipython3",
   "version": "3.9.13"
  }
 },
 "nbformat": 4,
 "nbformat_minor": 5
}
