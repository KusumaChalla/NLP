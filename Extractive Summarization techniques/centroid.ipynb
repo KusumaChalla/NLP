{
 "cells": [
  {
   "cell_type": "markdown",
   "id": "c3b2bd4d",
   "metadata": {},
   "source": [
    "# Centroid based summerisation"
   ]
  },
  {
   "cell_type": "code",
   "execution_count": 9,
   "id": "257bbc08",
   "metadata": {},
   "outputs": [],
   "source": [
    "import os\n",
    "import codecs\n",
    "\n",
    "corpus_path = \"news-corpus//\"\n",
    "article_paths = [os.path.join(corpus_path,p) for p in os.listdir(corpus_path)]\n",
    "\n",
    "doc_complete = []\n",
    "for path in article_paths:\n",
    "    with open(path, 'rb') as f:\n",
    "        doc_content = f.read().decode(errors='ignore')\n",
    "        doc_complete.append(doc_content)"
   ]
  },
  {
   "cell_type": "code",
   "execution_count": 10,
   "id": "1aea543f",
   "metadata": {},
   "outputs": [],
   "source": [
    "import re\n",
    "for i in range(len(doc_complete)):\n",
    "    doc_complete[i] = re.sub(r'[^\\w\\s.]', '', doc_complete[i])"
   ]
  },
  {
   "cell_type": "code",
   "execution_count": 11,
   "id": "dea1a770",
   "metadata": {},
   "outputs": [],
   "source": [
    "if len(doc_complete) >= 2:\n",
    "    doc_complete.pop(1)"
   ]
  },
  {
   "cell_type": "code",
   "execution_count": 12,
   "id": "344be012",
   "metadata": {},
   "outputs": [
    {
     "data": {
      "text/plain": [
       "5"
      ]
     },
     "execution_count": 12,
     "metadata": {},
     "output_type": "execute_result"
    }
   ],
   "source": [
    "len(doc_complete)"
   ]
  },
  {
   "cell_type": "code",
   "execution_count": 8,
   "id": "843b54d6",
   "metadata": {},
   "outputs": [],
   "source": [
    "#doc_complete[1]"
   ]
  },
  {
   "cell_type": "code",
   "execution_count": 17,
   "id": "72ea348d",
   "metadata": {
    "scrolled": false
   },
   "outputs": [],
   "source": [
    "# import nltk\n",
    "# from nltk.tokenize import sent_tokenize\n",
    "# from nltk.corpus import stopwords\n",
    "# from nltk.stem import WordNetLemmatizer\n",
    "# from sklearn.feature_extraction.text import TfidfVectorizer\n",
    "# from sklearn.cluster import KMeans\n",
    "# from sklearn.metrics.pairwise import cosine_distances\n",
    "\n",
    "# # nltk.download('punkt')\n",
    "# # nltk.download('stopwords')\n",
    "# # nltk.download('wordnet')\n",
    "\n",
    "\n",
    "# # Preprocess the text data\n",
    "# stopwords = set(stopwords.words('english'))\n",
    "# lemmatizer = WordNetLemmatizer()\n",
    "\n",
    "# # Tokenize and preprocess each document\n",
    "# preprocessed_documents = []\n",
    "# for document in doc_complete:\n",
    "#     # Tokenize the sentences in the document\n",
    "#     sentences = sent_tokenize(document)\n",
    "\n",
    "#     # Preprocess each sentence\n",
    "#     preprocessed_sentences = []\n",
    "#     for sentence in sentences:\n",
    "#         # Tokenize the sentence\n",
    "#         tokens = nltk.word_tokenize(sentence.lower())\n",
    "\n",
    "#         # Remove stopwords and punctuation\n",
    "#         tokens = [token for token in tokens if token.isalpha() and token not in stopwords]\n",
    "\n",
    "#         # Lemmatize the tokens\n",
    "#         tokens = [lemmatizer.lemmatize(token) for token in tokens]\n",
    "\n",
    "#         preprocessed_sentences.append(\" \".join(tokens))\n",
    "\n",
    "#     preprocessed_documents.append(preprocessed_sentences)\n",
    "\n",
    "# # Flatten the preprocessed documents\n",
    "# flattened_documents = [\" \".join(sentences) for sentences in preprocessed_documents]\n",
    "\n",
    "# # Vectorize the preprocessed documents (TF-IDF)\n",
    "# vectorizer = TfidfVectorizer()\n",
    "# vectorized_docs = vectorizer.fit_transform(flattened_documents)\n",
    "\n",
    "# # Perform clustering (K-means)\n",
    "# num_clusters = 5  # Adjust the number of clusters as needed\n",
    "# kmeans = KMeans(n_clusters=num_clusters, init='k-means++', random_state=42)\n",
    "# kmeans.fit(vectorized_docs)\n",
    "# cluster_labels = kmeans.labels_\n",
    "\n",
    "# # Calculate the centroid of each cluster\n",
    "# centroids = kmeans.cluster_centers_\n",
    "\n",
    "# # Calculate cosine distances between documents and centroids\n",
    "# distances = cosine_distances(vectorized_docs, centroids)\n",
    "\n",
    "# # Sort documents by distance to centroids\n",
    "# sorted_indices = distances.argsort(axis=0).ravel()\n",
    "\n",
    "# # Select top documents for summary\n",
    "# summary_documents = [flattened_documents[i] for i in sorted_indices[:6]]  # Adjust the number of documents for summary\n",
    "\n",
    "# # Print the summaries\n",
    "# for i, document in enumerate(summary_documents):\n",
    "#     print(f\"Summary {i + 1}:\")\n",
    "#     print(document)\n",
    "#     print(\"==========================\")\n"
   ]
  },
  {
   "cell_type": "code",
   "execution_count": 22,
   "id": "86dd66f6",
   "metadata": {
    "scrolled": false
   },
   "outputs": [
    {
     "name": "stdout",
     "output_type": "stream",
     "text": [
      "At a time when the two extremes of malnourishment and obesity plague large portions of the world India has taken it upon herself to educate the masses about these smallseeded grasses that are highly beneficial to human health.Millet and grain cereals despite being rich sources of protein and antioxidants with high nutritional value have never been considered fashionable foods however India has done remarkably well when it has come to meeting the caloric needs and demands of her people.India the worlds largest producer and the worlds secondlargest exporter of millet are hoping to change the humble millets reputation worldwide.Unlike a large part of the rest of the world almost every Indian household is acquainted with the taste and the benefits of millet.Millets have been a staple of the Indian diet especially in rural India for years and remain prevalent even today. It was a remarkable achievement considering India had not even touched the export mark of USD 30 million worth of millets in 2019 and 2020.India home to 20 per cent of the global millet production with a staggering 80 per cent contribution to Asias millet production also proposed that the United Nations declare an international year of millet according to APEDA.Cognizant of Indias success in feeding her vast population and working for global welfare the global body declared 2023 as the international year of millets. While this is already a vast number of people proponents of millet production are of the opinion that a greater number of people should include millet in their diet.Millets are versatile grains that grow in half the time as wheat and use 70 per cent less water than rice providing a multifold benefit.A concentrated campaign to enhance the production and consumption of millets which are rich in carbs proteins and vitamins can change the entire paradigm of the food and health industry globally.Several experts have agreed that a sincere effort towards millet production can help countries effectively overcome micronutrient deficiencies.India already a selfsufficient country when it comes to ensuring food for its people is on a mission to capitalize on its millet market and deliver its people the benefits that go beyond just one aspect of human welfare\n",
      "\n",
      "\n",
      "\n",
      "---------------------------------------------------------------------------------------------\n",
      "\n",
      "\n",
      "\n",
      " The theme of the meeting is Sustainable Agriculture and Food Systems for Healthy People and the Planet. Subsequently the cultural performance and gala dinner for delegates is arranged at the serene surroundings of the Buddha Theme Park. A threeday Meeting of Agricultural Chief Scientists MACS under Indias G20 presidency will kickstart on Monday in Varanasi and will discuss on sustainable agriculture and food systems for healthy people and planet\n",
      "\n",
      "\n",
      "\n",
      "---------------------------------------------------------------------------------------------\n",
      "\n",
      "\n",
      "\n",
      "Nafed MD Rajbir Singh said the centre is a unique concept that will help in the recognition of the immense potential of millets Shree Anna as a versatile and healthy grain. Speaking about the collaboration of NAFED and the ministry he said that ventures like the Millets Experience Centre would help widen the horizon for consumers who are actively looking for healthier alternatives and bring visibility to Indias robust milletbased startup community. Union Agriculture Minister Narendra Singh Tomar on Friday said the government is making efforts to boost the production and consumption of millets\n",
      "\n",
      "\n",
      "\n",
      "---------------------------------------------------------------------------------------------\n",
      "\n",
      "\n",
      "\n",
      "In order to keep a close tab on the claims and advertisements being made by the FBOs on their products Advertisement Monitoring Committee of FSSAI has reported 32 fresh cases which have been found prima facie in contravention of the provisions of Food Safety and Standards Advertisements  Claims Regulations 2018 the regulator said in a statement. For further action including the issuance of notices to the concerned FBOs the same has been referred to the concerned Licensing Authorities for issuance of notices to all such FBOs for withdrawing the misleading claims or scientifically substantiate the same the statement said. The regulator asked all the FBOs to strictly adhere to the provisions of the Food Safety and Standards Advertisements  Claims Regulations 2018 and desist from making any unscientific andor exaggerated claims and advertisements to promote their product sales to avoid enforcement actions.\n",
      "\n",
      "\n",
      "\n",
      "---------------------------------------------------------------------------------------------\n",
      "\n",
      "\n",
      "\n",
      "We will be present in all the south Indian towns having a population of about 30000 people said BP Ravindran CEO of WayCool BrandsNext the new subsidiary.Ravindran said the company will soon launch a health mix powder with higher millet content and also come out with milletbased food products.Discover the stories of your interestBlockchain5 StoriesCybersafety7 StoriesFintech9 StoriesEcomm9 StoriesML8 StoriesEdtech6 StoriesAgreeing that postCovid people are looking at healthier food options Ravindran said the company will also come out with various rice varieties like redbrown and others and valueadded dairy products.According to Jayaraman the demand for whitelabelled products have gone up and the company is also serving the needs of companies that are into delivering groceries to homes.The parent company WayCool Foods is largely a businesstobusiness B2B food products supplier sourcing from farmersfarmer producer organisations directly and supplying to retail outletsbulk buyers in the southern markets and in Maharashtra.WayCool Indias leading food and agritech company has signed a Memorandum of Understanding MoU with Central Warehousing Corporation CWC to bolster the distribution of its agriinput portfolio. The Rs 1800crore revenuefarmtodiningplate agri commerce company WayCool Foods and Products has hived off its three brands into a wholly owned subsidiary in order to double to revenue in a year said a top company official.The new company WayCool BrandsNext Private Ltd will soon launch milletbased products and various rice varieties.The hiving off of the Rs 400 crore revenue business is not with an idea to come out with an initial public offer IPO the official said. The partnership aims to transform Indias food ecosystem by improving supply chain efficiency and reducing wastage.The company has entered into a Memorandum of Understanding MoU with the Central Warehousing Corporation CWC to utilize six stateoftheart facilities located across South India along with additional facilities to be set up in key locations.CWC will provide dedicated warehousing and incidental services including pest control handling and transportation inventory management and others.\n",
      "\n",
      "\n",
      "\n",
      "---------------------------------------------------------------------------------------------\n",
      "\n",
      "\n",
      "\n"
     ]
    },
    {
     "name": "stderr",
     "output_type": "stream",
     "text": [
      "/Users/kusumachalla/opt/anaconda3/lib/python3.9/site-packages/sklearn/utils/validation.py:593: FutureWarning: np.matrix usage is deprecated in 1.0 and will raise a TypeError in 1.2. Please convert to a numpy array with np.asarray. For more information see: https://numpy.org/doc/stable/reference/generated/numpy.matrix.html\n",
      "  warnings.warn(\n",
      "/Users/kusumachalla/opt/anaconda3/lib/python3.9/site-packages/sklearn/utils/validation.py:593: FutureWarning: np.matrix usage is deprecated in 1.0 and will raise a TypeError in 1.2. Please convert to a numpy array with np.asarray. For more information see: https://numpy.org/doc/stable/reference/generated/numpy.matrix.html\n",
      "  warnings.warn(\n",
      "/Users/kusumachalla/opt/anaconda3/lib/python3.9/site-packages/sklearn/utils/validation.py:593: FutureWarning: np.matrix usage is deprecated in 1.0 and will raise a TypeError in 1.2. Please convert to a numpy array with np.asarray. For more information see: https://numpy.org/doc/stable/reference/generated/numpy.matrix.html\n",
      "  warnings.warn(\n",
      "/Users/kusumachalla/opt/anaconda3/lib/python3.9/site-packages/sklearn/utils/validation.py:593: FutureWarning: np.matrix usage is deprecated in 1.0 and will raise a TypeError in 1.2. Please convert to a numpy array with np.asarray. For more information see: https://numpy.org/doc/stable/reference/generated/numpy.matrix.html\n",
      "  warnings.warn(\n",
      "/Users/kusumachalla/opt/anaconda3/lib/python3.9/site-packages/sklearn/utils/validation.py:593: FutureWarning: np.matrix usage is deprecated in 1.0 and will raise a TypeError in 1.2. Please convert to a numpy array with np.asarray. For more information see: https://numpy.org/doc/stable/reference/generated/numpy.matrix.html\n",
      "  warnings.warn(\n"
     ]
    }
   ],
   "source": [
    "from sklearn.feature_extraction.text import TfidfVectorizer\n",
    "from sklearn.metrics.pairwise import cosine_distances\n",
    "\n",
    "def centroid_summarization(text, num_sentences):\n",
    "    \n",
    "    # Tokenize the text into sentences\n",
    "    sentences = text.split('. ')  # Assuming sentences are separated by '.'\n",
    "\n",
    "    # Vectorize the sentences using TF-IDF\n",
    "    vectorizer = TfidfVectorizer()\n",
    "    sentence_vectors = vectorizer.fit_transform(sentences)\n",
    "\n",
    "    # Calculate the centroid vector\n",
    "    centroid = sentence_vectors.mean(axis=0)\n",
    "\n",
    "    # Calculate the cosine distances between each sentence vector and the centroid\n",
    "    distances = cosine_distances(sentence_vectors, centroid)\n",
    "\n",
    "    # Sort sentences based on their distances to the centroid\n",
    "    sorted_sentences = sorted(enumerate(sentences), key=lambda x: distances[x[0]], reverse=False)\n",
    "\n",
    "    # Select the top 'num_sentences' sentences as the summary\n",
    "    summary = [sentence for _, sentence in sorted_sentences[:num_sentences]]\n",
    "\n",
    "    # Join the summary sentences into a single string\n",
    "    summary_text = '. '.join(summary)\n",
    "\n",
    "    return summary_text\n",
    "\n",
    "\n",
    "for doc in doc_complete:\n",
    "    \n",
    "    num_sentences = 3\n",
    "\n",
    "    summary = centroid_summarization(doc, num_sentences)\n",
    "    print(summary)\n",
    "    print(\"\\n\\n\")\n",
    "    print(\"---------------------------------------------------------------------------------------------\")\n",
    "    print(\"\\n\\n\")\n"
   ]
  },
  {
   "cell_type": "code",
   "execution_count": null,
   "id": "692f64a9",
   "metadata": {
    "scrolled": false
   },
   "outputs": [],
   "source": []
  }
 ],
 "metadata": {
  "kernelspec": {
   "display_name": "Python 3 (ipykernel)",
   "language": "python",
   "name": "python3"
  },
  "language_info": {
   "codemirror_mode": {
    "name": "ipython",
    "version": 3
   },
   "file_extension": ".py",
   "mimetype": "text/x-python",
   "name": "python",
   "nbconvert_exporter": "python",
   "pygments_lexer": "ipython3",
   "version": "3.9.13"
  }
 },
 "nbformat": 4,
 "nbformat_minor": 5
}
