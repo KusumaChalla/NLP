{
 "cells": [
  {
   "cell_type": "markdown",
   "id": "5036c048",
   "metadata": {},
   "source": [
    "1. Produce the record level recommendations (mentioned in earlier tabs). Once that is done, select all the recommendations for records where the customers fall in 'not engaged' or 'somewhat engaged' quintile. With a goal to creating Top 3 recommendations, we would need some method to organize the available text into 3/4 buckets. Perhaps arrange it by People, Process, Product, Premises / Loyalty, Intent, Values / Empathy, Efficiency, Effectiveness, Reliability, Usability, Lifestyle, Effort headings?\n",
    "\n",
    "- <h3 style = \"color:red\">Run a text summarization protocol to produce a logically summarized text.<h3>\n",
    "\n",
    "2. Option 2 is to first accumulate row by row all records where the customers are in 'not engaged' or 'somewhat engaged' quintile. Take average of emotional engagement, drivers, context (column by column). Run the hierarchy model as explained earlier and produce a single summary text that should ideally cover all the key aspects of issues __driving down emotional engagement__.\n",
    "\n",
    "__Option 1 Pros__\n",
    "Simpler, Easier, Faster\n",
    "\n",
    "__Option 1 Cons__\n",
    "We may miss a few key aspects\n",
    "May not represent a comprehensive list of key action areas\n"
   ]
  },
  {
   "cell_type": "code",
   "execution_count": 63,
   "id": "7383f6da",
   "metadata": {},
   "outputs": [],
   "source": [
    "# data = pd.read_csv('../../Desktop/HEDIS/Loinc - Loinc.csv')"
   ]
  },
  {
   "cell_type": "code",
   "execution_count": 64,
   "id": "cf2fcf76",
   "metadata": {},
   "outputs": [],
   "source": [
    "# d=data[0:2000]\n",
    "# d.to_csv('loinc_subdata.csv', index=False)"
   ]
  },
  {
   "cell_type": "code",
   "execution_count": 5,
   "id": "c5b72cb8",
   "metadata": {},
   "outputs": [],
   "source": [
    "import pandas as pd\n",
    "data = pd.ExcelFile('NLG_TestSheet.xlsx')"
   ]
  },
  {
   "cell_type": "code",
   "execution_count": 6,
   "id": "163a6790",
   "metadata": {},
   "outputs": [],
   "source": [
    "sheets = data.sheet_names"
   ]
  },
  {
   "cell_type": "code",
   "execution_count": 7,
   "id": "35ab435d",
   "metadata": {},
   "outputs": [
    {
     "data": {
      "text/plain": [
       "['Example by Record',\n",
       " 'Sheet5',\n",
       " 'Sheet4',\n",
       " 'NLG Hierarchy by record',\n",
       " 'Consolidated NLG Output']"
      ]
     },
     "execution_count": 7,
     "metadata": {},
     "output_type": "execute_result"
    }
   ],
   "source": [
    "sheets"
   ]
  },
  {
   "cell_type": "code",
   "execution_count": 10,
   "id": "4fa85a80",
   "metadata": {},
   "outputs": [],
   "source": [
    "sheet_dataframes = {}\n",
    "\n",
    "for sheet_name in sheets:\n",
    "    sheet_data = data.parse(sheet_name)\n",
    "    sheet_dataframes[sheet_name] = sheet_data"
   ]
  },
  {
   "cell_type": "code",
   "execution_count": 12,
   "id": "a286e05d",
   "metadata": {},
   "outputs": [],
   "source": [
    "# for sheet_name, dataframe in sheet_dataframes.items():\n",
    "#     print(f\"Data from sheet '{sheet_name}':\")\n",
    "#     print(dataframe)\n",
    "#     print(\"--------------------------------------\")"
   ]
  },
  {
   "cell_type": "code",
   "execution_count": 29,
   "id": "86c24722",
   "metadata": {},
   "outputs": [],
   "source": [
    "#sheet_dataframes['Example by Record']"
   ]
  },
  {
   "cell_type": "code",
   "execution_count": 32,
   "id": "ef48a367",
   "metadata": {},
   "outputs": [],
   "source": [
    "recommendations = sheet_dataframes['Example by Record']['RECOMMENDAION']"
   ]
  },
  {
   "cell_type": "code",
   "execution_count": 72,
   "id": "54ff2477",
   "metadata": {},
   "outputs": [
    {
     "data": {
      "text/plain": [
       "0                                        TO BE MODELLED\n",
       "1                                                   NaN\n",
       "2     The customer is engaged with the product exper...\n",
       "3     The customer is not engaged. This is driven by...\n",
       "4     The customer is not engaged. This is driven by...\n",
       "5     The customer is highly engaged. This is driven...\n",
       "6     The customer is engaged. This is driven be Peo...\n",
       "7     The customer is not engaged. This is driven by...\n",
       "8     The customer is not engaged. This is driven by...\n",
       "9     The customer is somewhat engaged. This is driv...\n",
       "10    The customer is somewhat engaged. This is driv...\n",
       "11    The customer is highly engaged. This is driven...\n",
       "12                                                  NaN\n",
       "Name: RECOMMENDAION, dtype: object"
      ]
     },
     "execution_count": 72,
     "metadata": {},
     "output_type": "execute_result"
    }
   ],
   "source": [
    "recommendations "
   ]
  },
  {
   "cell_type": "code",
   "execution_count": 71,
   "id": "bf539a82",
   "metadata": {},
   "outputs": [],
   "source": [
    "summery_text = recommendations[2:12]"
   ]
  },
  {
   "cell_type": "code",
   "execution_count": 83,
   "id": "cff2cce3",
   "metadata": {},
   "outputs": [
    {
     "data": {
      "text/plain": [
       "'The customer is engaged with the product experience. This is driven by product and process relaed aspects like well-being and positivity. The customer is a female. Her daughter likes the taste and she will recommend the product. She is sad because products made daughter gassy or constipated. But this product has really helped.'"
      ]
     },
     "execution_count": 83,
     "metadata": {},
     "output_type": "execute_result"
    }
   ],
   "source": [
    "summery_text[2]"
   ]
  },
  {
   "cell_type": "markdown",
   "id": "d341c5d0",
   "metadata": {},
   "source": [
    "# Markov Chain Technique"
   ]
  },
  {
   "cell_type": "markdown",
   "id": "0531c9fa",
   "metadata": {},
   "source": [
    "- Understand the concept of Markov Chains\n",
    "- Understand the properties of Markov Chains\n",
    "- Implement Markov Chains to create a text generator\n",
    "- Create Markov Chains with 1-gram, 2-gram and 3-gram text\n",
    "- Implement Markov Chains in several business cases\n",
    "\n",
    "__to understand the topic covered__\n",
    "- Basic theory of probability\n",
    "- General understanding of text mining\n"
   ]
  },
  {
   "cell_type": "markdown",
   "id": "2f55dd4d",
   "metadata": {},
   "source": [
    "___Transition Probability__\n",
    "\n",
    "- Markov Chain is a mathematical model of stochastic process that predicts the condition of the next state based on condition of the previous state. \n",
    "- It is called as a stochastic process because it change or evolve over time.\n",
    "\n",
    "__The Markov Chain will model the probability of transition between the current state toward the next one.__\n",
    "\n"
   ]
  },
  {
   "cell_type": "code",
   "execution_count": 74,
   "id": "89c94e6c",
   "metadata": {},
   "outputs": [],
   "source": [
    "import random\n",
    "import pandas as pd\n",
    "\n",
    "def train_markov_chain(data):\n",
    "    markov_chain = {}\n",
    "    for i in range(len(data)-1):\n",
    "        current_state = data[i]\n",
    "        next_state = data[i+1]\n",
    "        if current_state in markov_chain:\n",
    "            markov_chain[current_state].append(next_state)\n",
    "        else:\n",
    "            markov_chain[current_state] = [next_state]\n",
    "    return markov_chain\n",
    "\n",
    "def generate_summary(markov_chain, length=5):\n",
    "    current_state = random.choice(list(markov_chain.keys()))\n",
    "    summary = [current_state]\n",
    "    for _ in range(length-1):\n",
    "        if current_state in markov_chain:\n",
    "            next_states = markov_chain[current_state]\n",
    "            next_state = random.choice(next_states)\n",
    "            summary.append(next_state)\n",
    "            current_state = next_state\n",
    "        else:\n",
    "            break\n",
    "    return ' '.join(summary)"
   ]
  },
  {
   "cell_type": "code",
   "execution_count": 98,
   "id": "703bfec7",
   "metadata": {
    "scrolled": true
   },
   "outputs": [
    {
     "name": "stdout",
     "output_type": "stream",
     "text": [
      "customer is a female. Her daughter likes the product experience. This is driven by product and process relaed aspects like well-being and process relaed aspects like well-being and process relaed aspects like well-being and she will recommend the product. She is driven by product has really helped.\n"
     ]
    }
   ],
   "source": [
    "tokens = summery_text[2].split()\n",
    "markov_chain = train_markov_chain(tokens)\n",
    "summary = generate_summary(markov_chain, length=300)\n",
    "print(summary)"
   ]
  },
  {
   "cell_type": "code",
   "execution_count": 243,
   "id": "11486467",
   "metadata": {},
   "outputs": [
    {
     "name": "stdout",
     "output_type": "stream",
     "text": [
      "This is driven by process related aspects. Specifically, hey want more convenience. Customer want more convenience. Customer want more convenience. Customer want you to simplify the rules.\n"
     ]
    }
   ],
   "source": [
    "tokens = summery_text[3].split()\n",
    "markov_chain = train_markov_chain(tokens)\n",
    "summary = generate_summary(markov_chain, length=300)\n",
    "print(summary)"
   ]
  },
  {
   "cell_type": "code",
   "execution_count": 270,
   "id": "6ddad747",
   "metadata": {},
   "outputs": [
    {
     "name": "stdout",
     "output_type": "stream",
     "text": [
      "The customer is driven by process related aspects. Specifically, they want more convenience and ease of access. Customer find that the website is not engaged. This is not engaged. This is not user friendly.\n"
     ]
    }
   ],
   "source": [
    "tokens = summery_text[4].split()\n",
    "markov_chain = train_markov_chain(tokens)\n",
    "summary = generate_summary(markov_chain, length=300)\n",
    "print(summary)"
   ]
  },
  {
   "cell_type": "code",
   "execution_count": 281,
   "id": "3ffc2e15",
   "metadata": {},
   "outputs": [
    {
     "name": "stdout",
     "output_type": "stream",
     "text": [
      "This is highly engaged. This is driven by people and care provided. They found Dr. A. Pisciotto, DO pleasure dealing with and excited about positivity and excited about positivity and process related aspects. Specifically they are happy and process related aspects. Specifically they are happy and excited about positivity and excited about positivity and care provided. They found Dr. A. Pisciotto, DO pleasure dealing with and process related aspects. Specifically they are happy and he made them feel at ease.\n"
     ]
    }
   ],
   "source": [
    "tokens = summery_text[5].split()\n",
    "markov_chain = train_markov_chain(tokens)\n",
    "summary = generate_summary(markov_chain, length=300)\n",
    "print(summary)"
   ]
  },
  {
   "cell_type": "code",
   "execution_count": 291,
   "id": "be8797e1",
   "metadata": {},
   "outputs": [
    {
     "name": "stdout",
     "output_type": "stream",
     "text": [
      "This is driven be welcoming and Product related aspects. Specifically the doctor and Product related aspects. Specifically the doctor and Product related aspects. Specifically the customer is engaged. This is engaged. This is engaged. This is happy about care and well-being provided by Dr. Adam Henver, DO. The customer found the doctor and well-being provided by Dr. Adam Henver, DO. The customer is happy about care and Product related aspects. Specifically the doctor and well-being provided by Dr. Adam Henver, DO. The customer is driven be People and well-being provided by Dr. Adam Henver, DO. The customer is engaged. This is driven be welcoming and friendly\n"
     ]
    }
   ],
   "source": [
    "tokens = summery_text[6].split()\n",
    "markov_chain = train_markov_chain(tokens)\n",
    "summary = generate_summary(markov_chain, length=300)\n",
    "print(summary)"
   ]
  },
  {
   "cell_type": "code",
   "execution_count": 299,
   "id": "c28279a1",
   "metadata": {},
   "outputs": [
    {
     "name": "stdout",
     "output_type": "stream",
     "text": [
      "The customer experienced that for a long time. The customer is not engaged. This is angry about trust and return they have to wait for refund and waiting time. The customer is angry about trust and return they have to wait for refund and waiting time. The customer is not engaged. This is not engaged. This is driven by Process related aspects. Specifically the customer is driven by Process related aspects. Specifically the customer is driven by Process related aspects. Specifically the customer is driven by Process related aspects. Specifically the customer experienced that for a long time. The customer\n"
     ]
    }
   ],
   "source": [
    "tokens = summery_text[7].split()\n",
    "markov_chain = train_markov_chain(tokens)\n",
    "summary = generate_summary(markov_chain, length=100)\n",
    "print(summary)"
   ]
  },
  {
   "cell_type": "code",
   "execution_count": 392,
   "id": "9ea8b456",
   "metadata": {},
   "outputs": [
    {
     "name": "stdout",
     "output_type": "stream",
     "text": [
      "the customer is driven by Process related issues. Specifically the customer is angry about trust and have issues with customer is driven by Process related issues. Specifically the customer journey delivery as they don't ship what the customer paid for.\n"
     ]
    }
   ],
   "source": [
    "tokens = summery_text[8].split()\n",
    "markov_chain = train_markov_chain(tokens)\n",
    "summary = generate_summary(markov_chain, length=200)\n",
    "print(summary)"
   ]
  },
  {
   "cell_type": "code",
   "execution_count": 418,
   "id": "b487734c",
   "metadata": {},
   "outputs": [
    {
     "name": "stdout",
     "output_type": "stream",
     "text": [
      "The customer is somewhat engaged. This is somewhat engaged. This is somewhat engaged. This is driven by People and sad about fairness and Process related aspects. Specifically they are angry and Process related aspects. Specifically they found to be incorrectly charged.\n"
     ]
    }
   ],
   "source": [
    "tokens = summery_text[9].split()\n",
    "markov_chain = train_markov_chain(tokens)\n",
    "summary = generate_summary(markov_chain, length=200)\n",
    "print(summary)"
   ]
  },
  {
   "cell_type": "code",
   "execution_count": 441,
   "id": "12b9cf6f",
   "metadata": {},
   "outputs": [
    {
     "name": "stdout",
     "output_type": "stream",
     "text": [
      "customer service is driven by People related aspects. Specifically they are sad but also happy about care they are sad but also happy about care they are sad but also happy about care they are sad but also doinf exceptionally well.\n"
     ]
    }
   ],
   "source": [
    "tokens = summery_text[10].split()\n",
    "markov_chain = train_markov_chain(tokens)\n",
    "summary = generate_summary(markov_chain, length=200)\n",
    "print(summary)"
   ]
  },
  {
   "cell_type": "code",
   "execution_count": 458,
   "id": "658441ff",
   "metadata": {},
   "outputs": [
    {
     "name": "stdout",
     "output_type": "stream",
     "text": [
      "customer is driven by People and Process related aspects. Specifically they received and Process related aspects. Specifically they received and timeliness of the service. The customer is highly engaged. This is highly engaged. This is highly engaged. This is driven by People and timeliness of the service. The customer is highly engaged. This is driven by People and Process related aspects. Specifically they are happy about care they are happy about care they are happy about care they are happy about care they are happy about care they received and Process related aspects. Specifically they are happy about care they are happy about care they are happy about care they received and Process related aspects. Specifically they are happy about care they received and timeliness of the service. The customer service helped solve their complaints in a swift manner.\n"
     ]
    }
   ],
   "source": [
    "tokens = summery_text[11].split()\n",
    "markov_chain = train_markov_chain(tokens)\n",
    "summary = generate_summary(markov_chain, length=200)\n",
    "print(summary)"
   ]
  },
  {
   "cell_type": "code",
   "execution_count": 17,
   "id": "1492da1e",
   "metadata": {},
   "outputs": [],
   "source": [
    "# import pandas as pd\n",
    "\n",
    "\n",
    "# data = pd.read_excel('data.xlsx')\n",
    "\n",
    "\n",
    "# template = \"The {customer} has engagement {score}.\"\n",
    "\n",
    "\n",
    "# generated_text = []\n",
    "# for _, row in data.iterrows():\n",
    "#     customer = row['score']\n",
    "#     score = row['score']\n",
    "#     text = template.format(customer=customer, score=score)\n",
    "#     generated_text.append(text)\n",
    "\n",
    "\n",
    "# output_text = \"\\n\".join(generated_text)\n",
    "\n",
    "\n",
    "# with open('output.txt', 'w') as file:\n",
    "#     file.write(output_text)\n"
   ]
  },
  {
   "cell_type": "code",
   "execution_count": null,
   "id": "eb297023",
   "metadata": {},
   "outputs": [],
   "source": [
    "\n"
   ]
  }
 ],
 "metadata": {
  "kernelspec": {
   "display_name": "Python 3 (ipykernel)",
   "language": "python",
   "name": "python3"
  },
  "language_info": {
   "codemirror_mode": {
    "name": "ipython",
    "version": 3
   },
   "file_extension": ".py",
   "mimetype": "text/x-python",
   "name": "python",
   "nbconvert_exporter": "python",
   "pygments_lexer": "ipython3",
   "version": "3.9.13"
  }
 },
 "nbformat": 4,
 "nbformat_minor": 5
}
